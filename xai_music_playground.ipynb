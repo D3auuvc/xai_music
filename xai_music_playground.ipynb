{
 "cells": [
  {
   "cell_type": "markdown",
   "metadata": {},
   "source": [
    "## Load a trained neural network model\n",
    "\n",
    "We use the pre-trained model `musicnn` [1].\n",
    "\n",
    "```(bash)\n",
    "pip install musicnn_keras\n",
    "```\n",
    "\n",
    "[1] [musicnn_keras](https://github.com/Quint-e/musicnn_keras)"
   ]
  },
  {
   "cell_type": "code",
   "execution_count": 1,
   "metadata": {},
   "outputs": [
    {
     "name": "stderr",
     "output_type": "stream",
     "text": [
      "/root/miniconda3/envs/env36/lib/python3.6/site-packages/requests/__init__.py:104: RequestsDependencyWarning: urllib3 (1.26.12) or chardet (5.0.0)/charset_normalizer (2.0.12) doesn't match a supported version!\n",
      "  RequestsDependencyWarning)\n"
     ]
    }
   ],
   "source": [
    "import tensorflow as tf\n",
    "musicnn = tf.keras.models.load_model(\n",
    "    './musicnn_keras/keras_checkpoints/MSD_musicnn.h5')"
   ]
  },
  {
   "cell_type": "code",
   "execution_count": 2,
   "metadata": {},
   "outputs": [],
   "source": [
    "from midi2audio import FluidSynth\n",
    "\n",
    "_MIDI = rf'audio/SweetChildOfMine.mid'\n",
    "\n",
    "# FluidSynth().play_midi(_MIDI)\n",
    "# using the default sound font in 44100 Hz sample rate\n",
    "fs = FluidSynth()\n",
    "fs.midi_to_audio(_MIDI, 'audio/SweetChildOfMine.mp3')"
   ]
  },
  {
   "cell_type": "code",
   "execution_count": 3,
   "metadata": {},
   "outputs": [],
   "source": [
    "from musicnn_keras.tagger import top_tags\n",
    "from musicnn_keras.extractor import extractor\n",
    "\n",
    "_AUDIO_FILE = rf'audio/SweetChildOfMine.mp3'"
   ]
  },
  {
   "cell_type": "code",
   "execution_count": 4,
   "metadata": {},
   "outputs": [
    {
     "name": "stdout",
     "output_type": "stream",
     "text": [
      "Computing spectrogram (w/ librosa) and tags (w/ tensorflow).. "
     ]
    },
    {
     "ename": "",
     "evalue": "",
     "output_type": "error",
     "traceback": [
      "\u001b[1;31mCanceled future for execute_request message before replies were done"
     ]
    },
    {
     "ename": "",
     "evalue": "",
     "output_type": "error",
     "traceback": [
      "\u001b[1;31mThe Kernel crashed while executing code in the the current cell or a previous cell. Please review the code in the cell(s) to identify a possible cause of the failure. Click <a href='https://aka.ms/vscodeJupyterKernelCrash'>here</a> for more info. View Jupyter <a href='command:jupyter.viewOutput'>log</a> for further details."
     ]
    }
   ],
   "source": [
    "top_tags = top_tags(_AUDIO_FILE, model='MTT_musicnn', topN=10)\n",
    "top_tags"
   ]
  },
  {
   "cell_type": "markdown",
   "metadata": {},
   "source": [
    "## Extract the Taggram"
   ]
  },
  {
   "cell_type": "code",
   "execution_count": null,
   "metadata": {},
   "outputs": [],
   "source": [
    "taggram, tags, features = extractor(_AUDIO_FILE, model='MTT_musicnn', extract_features=True)"
   ]
  },
  {
   "cell_type": "code",
   "execution_count": null,
   "metadata": {},
   "outputs": [],
   "source": [
    "import numpy as np\n",
    "import matplotlib.gridspec as gridspec\n",
    "import matplotlib.pylab as plt\n",
    "%matplotlib inline\n",
    "\n",
    "\n",
    "def depict_features(features, coordinates, title, aspect='auto', xlabel=True, fontsize=13):\n",
    "    # plot features in coordinates\n",
    "    ax = plt.subplot(coordinates)\n",
    "    plt.imshow(features.T, interpolation=None, aspect=aspect)\n",
    "    # set title\n",
    "    ax.title.set_text(title + ' (' + str(features.shape[1]) + ')')\n",
    "    ax.title.set_fontsize(fontsize)\n",
    "    # y-axis\n",
    "    ax.get_yaxis().set_visible(False)\n",
    "    # x-axis\n",
    "    x_label = np.arange(0, features.shape[0], features.shape[0]//5)\n",
    "    ax.set_xticks(x_label)\n",
    "    ax.set_xticklabels(x_label, fontsize=fontsize)\n",
    "    if xlabel:\n",
    "        ax.set_xlabel('(time)', fontsize=fontsize)\n"
   ]
  },
  {
   "cell_type": "code",
   "execution_count": null,
   "metadata": {},
   "outputs": [],
   "source": [
    "# visualize pool1 features!\n",
    "gs = gridspec.GridSpec(3, 2)  # create a figure having 2 rows and 3 cols.\n",
    "\n",
    "depict_features(features=features['pool1'][:, :, 0],\n",
    "                coordinates=gs[0, 0],\n",
    "                title='pool1: feature #0',\n",
    "                xlabel=False)\n",
    "\n",
    "depict_features(features=features['pool1'][:, :, 35],\n",
    "                coordinates=gs[1, 0],\n",
    "                title='pool1: feature #35',\n",
    "                xlabel=False)\n",
    "\n",
    "depict_features(features=features['pool1'][:, :, 111],\n",
    "                coordinates=gs[2, 0],\n",
    "                title='pool1: feature #111',\n",
    "                xlabel=False)\n",
    "\n",
    "depict_features(features=features['pool1'][:, :, 3],\n",
    "                coordinates=gs[0, 1],\n",
    "                title='pool1: feature #3',\n",
    "                xlabel=False)\n",
    "\n",
    "depict_features(features=features['pool1'][:, :, 39],\n",
    "                coordinates=gs[1, 1],\n",
    "                title='pool1: feature #39',\n",
    "                xlabel=False)\n",
    "\n",
    "depict_features(features=features['pool1'][:, :, 101],\n",
    "                coordinates=gs[2, 1],\n",
    "                title='pool1: feature #101',\n",
    "                xlabel=False)\n",
    "\n",
    "plt.tight_layout()\n",
    "plt.show()\n"
   ]
  },
  {
   "cell_type": "code",
   "execution_count": null,
   "metadata": {},
   "outputs": [],
   "source": [
    "# visualize pool2 features!\n",
    "gs = gridspec.GridSpec(3, 2)  # create a figure having 2 rows and 3 cols.\n",
    "\n",
    "depict_features(features=features['pool2'][:, :, 10],\n",
    "                coordinates=gs[0, 0],\n",
    "                title='pool2: feature #10',\n",
    "                xlabel=False)\n",
    "\n",
    "depict_features(features=features['pool2'][:, :, 5],\n",
    "                coordinates=gs[1, 0],\n",
    "                title='pool2: feature #5',\n",
    "                xlabel=False)\n",
    "\n",
    "depict_features(features=features['pool2'][:, :, 121],\n",
    "                coordinates=gs[2, 0],\n",
    "                title='pool2: feature #121',\n",
    "                xlabel=False)\n",
    "\n",
    "depict_features(features=features['pool2'][:, :, 33],\n",
    "                coordinates=gs[0, 1],\n",
    "                title='pool2: feature #33',\n",
    "                xlabel=False)\n",
    "\n",
    "depict_features(features=features['pool2'][:, :, 59],\n",
    "                coordinates=gs[1, 1],\n",
    "                title='pool2: feature #59',\n",
    "                xlabel=False)\n",
    "\n",
    "depict_features(features=features['pool2'][:, :, 100],\n",
    "                coordinates=gs[2, 1],\n",
    "                title='pool2: feature #100',\n",
    "                xlabel=False)\n",
    "\n",
    "plt.tight_layout()\n",
    "plt.show()\n"
   ]
  },
  {
   "cell_type": "code",
   "execution_count": null,
   "metadata": {},
   "outputs": [],
   "source": [
    "# visualize pool3 features!\n",
    "gs = gridspec.GridSpec(3, 2)  # create a figure having 2 rows and 3 cols.\n",
    "\n",
    "depict_features(features=features['pool3'][:, :, 100],\n",
    "                coordinates=gs[0, 0],\n",
    "                title='pool3: feature #100',\n",
    "                xlabel=False)\n",
    "\n",
    "depict_features(features=features['pool3'][:, :, 50],\n",
    "                coordinates=gs[1, 0],\n",
    "                title='pool3: feature #50',\n",
    "                xlabel=False)\n",
    "\n",
    "depict_features(features=features['pool3'][:, :, 122],\n",
    "                coordinates=gs[2, 0],\n",
    "                title='pool3: feature #122',\n",
    "                xlabel=False)\n",
    "\n",
    "depict_features(features=features['pool3'][:, :, 83],\n",
    "                coordinates=gs[0, 1],\n",
    "                title='pool3: feature #83',\n",
    "                xlabel=False)\n",
    "\n",
    "depict_features(features=features['pool3'][:, :, 9],\n",
    "                coordinates=gs[1, 1],\n",
    "                title='pool3: feature #9',\n",
    "                xlabel=False)\n",
    "\n",
    "depict_features(features=features['pool3'][:, :, 104],\n",
    "                coordinates=gs[2, 1],\n",
    "                title='pool3: feature #104',\n",
    "                xlabel=False)\n",
    "\n",
    "plt.tight_layout()\n",
    "plt.show()\n"
   ]
  },
  {
   "cell_type": "code",
   "execution_count": null,
   "metadata": {},
   "outputs": [],
   "source": [
    "# visualize pool4 features!\n",
    "gs = gridspec.GridSpec(3, 2)  # create a figure having 2 rows and 3 cols.\n",
    "\n",
    "depict_features(features=features['pool4'][:, :, 108],\n",
    "                coordinates=gs[0, 0],\n",
    "                title='pool4: feature #108',\n",
    "                xlabel=False)\n",
    "\n",
    "depict_features(features=features['pool4'][:, :, 58],\n",
    "                coordinates=gs[1, 0],\n",
    "                title='pool4: feature #58',\n",
    "                xlabel=False)\n",
    "\n",
    "depict_features(features=features['pool4'][:, :, 21],\n",
    "                coordinates=gs[2, 0],\n",
    "                title='pool4: feature #21',\n",
    "                xlabel=False)\n",
    "\n",
    "depict_features(features=features['pool4'][:, :, 23],\n",
    "                coordinates=gs[0, 1],\n",
    "                title='pool4: feature #23',\n",
    "                xlabel=False)\n",
    "\n",
    "depict_features(features=features['pool4'][:, :, 89],\n",
    "                coordinates=gs[1, 1],\n",
    "                title='pool4: feature #89',\n",
    "                xlabel=False)\n",
    "\n",
    "depict_features(features=features['pool4'][:, :, 67],\n",
    "                coordinates=gs[2, 1],\n",
    "                title='pool4: feature #67',\n",
    "                xlabel=False)\n",
    "\n",
    "plt.tight_layout()\n",
    "plt.show()\n"
   ]
  },
  {
   "cell_type": "code",
   "execution_count": null,
   "metadata": {},
   "outputs": [],
   "source": [
    "# visualize pool5 features!\n",
    "gs = gridspec.GridSpec(1, 1)  # create a figure having 1 rows and 1 cols.\n",
    "\n",
    "depict_features(features=features['pool5'],\n",
    "                coordinates=gs[0, 0],\n",
    "                title='pool5 features',\n",
    "                xlabel=False)\n",
    "\n",
    "plt.tight_layout()\n",
    "plt.show()\n"
   ]
  },
  {
   "cell_type": "code",
   "execution_count": null,
   "metadata": {},
   "outputs": [],
   "source": [
    "in_length = 3  # seconds -- by default, the model takes inputs of 3 seconds with no overlap\n",
    "\n",
    "# depict taggram\n",
    "plt.rcParams[\"figure.figsize\"] = (10, 8)\n",
    "fontsize = 12\n",
    "fig, ax = plt.subplots()\n",
    "ax.imshow(taggram.T, interpolation=None, aspect=\"auto\")\n",
    "\n",
    "# title\n",
    "ax.title.set_text('Taggram')\n",
    "ax.title.set_fontsize(fontsize)\n",
    "\n",
    "# x-axis title\n",
    "ax.set_xlabel('(seconds)', fontsize=fontsize)\n",
    "\n",
    "# y-axis\n",
    "y_pos = np.arange(len(tags))\n",
    "ax.set_yticks(y_pos)\n",
    "ax.set_yticklabels(tags, fontsize=fontsize-1)\n",
    "\n",
    "# x-axis\n",
    "x_pos = np.arange(taggram.shape[0])\n",
    "x_label = np.arange(in_length/2, in_length*taggram.shape[0], 3)\n",
    "ax.set_xticks(x_pos)\n",
    "ax.set_xticklabels(x_label, fontsize=fontsize)\n",
    "\n",
    "plt.show()\n"
   ]
  },
  {
   "cell_type": "code",
   "execution_count": null,
   "metadata": {},
   "outputs": [],
   "source": [
    "from music21 import converter, instrument\n",
    "\n",
    "_MIDI_FILE = rf'audio/WelcomeToTheJungle.mid'\n",
    "\n",
    "file = converter.parse(_MIDI_FILE)\n",
    "components = []\n",
    "for element in file.recurse():\n",
    "    components.append(element)\n",
    "    \n",
    "    \n",
    "components\n"
   ]
  }
 ],
 "metadata": {
  "kernelspec": {
   "display_name": "Python 3.6.13 ('env36')",
   "language": "python",
   "name": "python3"
  },
  "language_info": {
   "codemirror_mode": {
    "name": "ipython",
    "version": 3
   },
   "file_extension": ".py",
   "mimetype": "text/x-python",
   "name": "python",
   "nbconvert_exporter": "python",
   "pygments_lexer": "ipython3",
   "version": "3.6.13"
  },
  "orig_nbformat": 4,
  "vscode": {
   "interpreter": {
    "hash": "f2613c4942d1a2d8babbb519c1ac9a3eb5582a5ee7ed1c2ceba649852e7135f6"
   }
  }
 },
 "nbformat": 4,
 "nbformat_minor": 2
}
