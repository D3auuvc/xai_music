{
 "cells": [
  {
   "cell_type": "markdown",
   "metadata": {},
   "source": [
    "## Generate single instrument soundtrack\n"
   ]
  },
  {
   "cell_type": "code",
   "execution_count": 1,
   "metadata": {},
   "outputs": [],
   "source": [
    "from music21 import instrument\n",
    "\n",
    "# Instrument list\n",
    "instruments = {\"Piano\": instrument.Piano(),\n",
    "               \"Harpsichord\": instrument.Harpsichord(),\n",
    "               \"Glockenspiel\": instrument.Glockenspiel(),\n",
    "               \"Xylophone\": instrument.Xylophone(),\n",
    "               \"ElectricOrgan\": instrument.ElectricOrgan(),\n",
    "               \"Harmonica\": instrument.Harmonica(),\n",
    "               \"AcousticGuitar\": instrument.AcousticGuitar(),\n",
    "               \"ElectricGuitar\": instrument.ElectricGuitar(),\n",
    "               \"ElectricBass\": instrument.ElectricBass(),\n",
    "               \"Violin\": instrument.Violin(),\n",
    "               \"Viola\": instrument.Viola(),\n",
    "               \"Violoncello\": instrument.Violoncello(),\n",
    "               \"Harp\": instrument.Harp(),\n",
    "               \"Timpani\": instrument.Timpani(),\n",
    "               \"Trombone\": instrument.Trombone(),\n",
    "               \"Tuba\": instrument.Tuba(),\n",
    "               \"SopranoSaxophone\": instrument.SopranoSaxophone(),\n",
    "               \"Flute\": instrument.Flute(),\n",
    "               \"Koto\": instrument.Koto(),\n",
    "               \"Soprano\": instrument.Soprano()}\n",
    "\n",
    "# Tempo list\n",
    "tmpo_fctr = {\"original\": 1.00,\n",
    "             \"x125\": 1.25,\n",
    "             \"x150\": 1.50,\n",
    "             \"x075\": 0.75,\n",
    "             \"x050\": 0.50}\n",
    "# Key\n",
    "keys = [-2, -1, 0, 1, 2]\n",
    "\n",
    "# major conversions\n",
    "majors = dict([(\"A-\", 4), (\"A\", 3), (\"B-\", 2), (\"B\", 1), (\"C\", 0), (\"D-\", -1),\n",
    "              (\"D\", -2), (\"E-\", -3), (\"E\", -4), (\"F\", -5), (\"G-\", 6), (\"G\", 5)])\n",
    "minors = dict([(\"A-\", 1), (\"A\", 0), (\"B-\", -1), (\"B\", -2), (\"C\", -3),\n",
    "              (\"D-\", -4), (\"D\", -5), (\"E-\", 6), (\"E\", 5), (\"F\", 4), (\"G-\", 3), (\"G\", 2)])\n"
   ]
  },
  {
   "cell_type": "markdown",
   "metadata": {},
   "source": [
    "## Synthesize MIDI to audio (mp3)\n"
   ]
  },
  {
   "cell_type": "code",
   "execution_count": 2,
   "metadata": {},
   "outputs": [],
   "source": [
    "from midi2audio import FluidSynth\n",
    "\n",
    "\n",
    "def midi_to_audio(input_midi, output_audio):\n",
    "    '''\n",
    "    Using the default sound font in 44100 Hz sample rate\n",
    "    '''\n",
    "    fs = FluidSynth()\n",
    "    fs.midi_to_audio(input_midi, output_audio)\n"
   ]
  },
  {
   "cell_type": "markdown",
   "metadata": {},
   "source": [
    "## Generate single instrument soundtrack\n"
   ]
  },
  {
   "cell_type": "code",
   "execution_count": 3,
   "metadata": {},
   "outputs": [
    {
     "ename": "FileNotFoundError",
     "evalue": "Cannot find file in audio/HighwayToHell_solo_choir.midi",
     "output_type": "error",
     "traceback": [
      "\u001b[0;31m---------------------------------------------------------------------------\u001b[0m",
      "\u001b[0;31mFileNotFoundError\u001b[0m                         Traceback (most recent call last)",
      "\u001b[1;32m/home/dell-shou/GitHub/xai_music/playground/get_music_sound_bank.ipynb Cell 6\u001b[0m line \u001b[0;36m1\n\u001b[1;32m     <a href='vscode-notebook-cell://wsl%2Bubuntu/home/dell-shou/GitHub/xai_music/playground/get_music_sound_bank.ipynb#W5sdnNjb2RlLXJlbW90ZQ%3D%3D?line=9'>10</a>\u001b[0m _MP3 \u001b[39m=\u001b[39m \u001b[39mrf\u001b[39m\u001b[39m'\u001b[39m\u001b[39m.mp3\u001b[39m\u001b[39m'\u001b[39m\n\u001b[1;32m     <a href='vscode-notebook-cell://wsl%2Bubuntu/home/dell-shou/GitHub/xai_music/playground/get_music_sound_bank.ipynb#W5sdnNjb2RlLXJlbW90ZQ%3D%3D?line=10'>11</a>\u001b[0m _MIDI_SOLO_CHOIR \u001b[39m=\u001b[39m \u001b[39mrf\u001b[39m\u001b[39m'\u001b[39m\u001b[39mHighwayToHell_solo_choir\u001b[39m\u001b[39m'\u001b[39m\n\u001b[0;32m---> <a href='vscode-notebook-cell://wsl%2Bubuntu/home/dell-shou/GitHub/xai_music/playground/get_music_sound_bank.ipynb#W5sdnNjb2RlLXJlbW90ZQ%3D%3D?line=12'>13</a>\u001b[0m score \u001b[39m=\u001b[39m converter\u001b[39m.\u001b[39;49mparse(Path(_TARGET_AUDIO_PATH, \u001b[39mf\u001b[39;49m\u001b[39m'\u001b[39;49m\u001b[39m{\u001b[39;49;00m_MIDI_SOLO_CHOIR\u001b[39m}\u001b[39;49;00m\u001b[39m{\u001b[39;49;00m_MID\u001b[39m}\u001b[39;49;00m\u001b[39m'\u001b[39;49m))\n\u001b[1;32m     <a href='vscode-notebook-cell://wsl%2Bubuntu/home/dell-shou/GitHub/xai_music/playground/get_music_sound_bank.ipynb#W5sdnNjb2RlLXJlbW90ZQ%3D%3D?line=14'>15</a>\u001b[0m \u001b[39m# Create instrument\u001b[39;00m\n\u001b[1;32m     <a href='vscode-notebook-cell://wsl%2Bubuntu/home/dell-shou/GitHub/xai_music/playground/get_music_sound_bank.ipynb#W5sdnNjb2RlLXJlbW90ZQ%3D%3D?line=15'>16</a>\u001b[0m \u001b[39mfor\u001b[39;00m inst_name, inst_obj \u001b[39min\u001b[39;00m tqdm(instruments\u001b[39m.\u001b[39mitems()):\n",
      "File \u001b[0;32m~/miniconda3/envs/xai_38/lib/python3.8/site-packages/music21/converter/__init__.py:1309\u001b[0m, in \u001b[0;36mparse\u001b[0;34m(value, forceSource, number, format, **keywords)\u001b[0m\n\u001b[1;32m   1306\u001b[0m     \u001b[39mreturn\u001b[39;00m parseURL(value, number\u001b[39m=\u001b[39mnumber, \u001b[39mformat\u001b[39m\u001b[39m=\u001b[39m\u001b[39mformat\u001b[39m,\n\u001b[1;32m   1307\u001b[0m                     forceSource\u001b[39m=\u001b[39mforceSource, \u001b[39m*\u001b[39m\u001b[39m*\u001b[39mkeywords)\n\u001b[1;32m   1308\u001b[0m \u001b[39melif\u001b[39;00m \u001b[39misinstance\u001b[39m(value, pathlib\u001b[39m.\u001b[39mPath):\n\u001b[0;32m-> 1309\u001b[0m     \u001b[39mraise\u001b[39;00m \u001b[39mFileNotFoundError\u001b[39;00m(\u001b[39mf\u001b[39m\u001b[39m'\u001b[39m\u001b[39mCannot find file in \u001b[39m\u001b[39m{\u001b[39;00m\u001b[39mstr\u001b[39m(value)\u001b[39m}\u001b[39;00m\u001b[39m'\u001b[39m)\n\u001b[1;32m   1310\u001b[0m \u001b[39melif\u001b[39;00m \u001b[39misinstance\u001b[39m(value, \u001b[39mstr\u001b[39m) \u001b[39mand\u001b[39;00m common\u001b[39m.\u001b[39mfindFormatFile(value) \u001b[39mis\u001b[39;00m \u001b[39mnot\u001b[39;00m \u001b[39mNone\u001b[39;00m:\n\u001b[1;32m   1311\u001b[0m     \u001b[39m# assume mistyped file path\u001b[39;00m\n\u001b[1;32m   1312\u001b[0m     \u001b[39mraise\u001b[39;00m \u001b[39mFileNotFoundError\u001b[39;00m(\u001b[39mf\u001b[39m\u001b[39m'\u001b[39m\u001b[39mCannot find file in \u001b[39m\u001b[39m{\u001b[39;00m\u001b[39mstr\u001b[39m(value)\u001b[39m}\u001b[39;00m\u001b[39m'\u001b[39m)\n",
      "\u001b[0;31mFileNotFoundError\u001b[0m: Cannot find file in audio/HighwayToHell_solo_choir.midi"
     ]
    }
   ],
   "source": [
    "from music21 import converter\n",
    "from tqdm import tqdm\n",
    "from pathlib import Path\n",
    "\n",
    "\n",
    "_TARGET_AUDIO_PATH = rf'audio'\n",
    "_MIDI_PATH = rf'audio/tmp'\n",
    "_AUDIO_PATH = rf'audio/instruments'\n",
    "_MID = rf'.midi'\n",
    "_MP3 = rf'.mp3'\n",
    "_MIDI_SOLO_CHOIR = rf'HighwayToHell_solo_choir'\n",
    "\n",
    "score = converter.parse(Path(_TARGET_AUDIO_PATH, f'{_MIDI_SOLO_CHOIR}{_MID}'))\n",
    "\n",
    "# Create instrument\n",
    "for inst_name, inst_obj in tqdm(instruments.items()):\n",
    "    score.parts[0].insert(0, inst_obj)\n",
    "    # With diferent tempo\n",
    "    # scale (in this case stretch) the overall tempo by this factor\n",
    "    for tmpo_name, tempo in tmpo_fctr.items():\n",
    "        mod_score = score.scaleOffsets(tempo).scaleDurations(tempo)\n",
    "\n",
    "        # With diferent key\n",
    "        for halfstep in keys:\n",
    "            _SOLO_MIDI = ''\n",
    "            if halfstep == 0:\n",
    "                _SOLO_MIDI = rf'HighwayToHell_solo_{inst_name}_{tmpo_name}_original{_MID}'\n",
    "                mod_score.write('midi', Path(_MIDI_PATH, _SOLO_MIDI))\n",
    "            else:\n",
    "                new_key_score = mod_score.transpose(halfstep)\n",
    "                key = new_key_score.analyze('key')\n",
    "                \n",
    "                _SOLO_MIDI = rf'HighwayToHell_solo_{inst_name}_{tmpo_name}_{key.tonic}{key.mode}{_MID}'\n",
    "                new_key_score.write('midi', Path(_MIDI_PATH, _SOLO_MIDI))\n",
    "\n",
    "            midi_to_audio(Path(_MIDI_PATH, _SOLO_MIDI), Path(\n",
    "                _AUDIO_PATH, f'{_SOLO_MIDI[:-5]}{_MP3}'))\n"
   ]
  },
  {
   "cell_type": "markdown",
   "metadata": {},
   "source": [
    "## Load a trained neural network model\n"
   ]
  },
  {
   "cell_type": "code",
   "execution_count": null,
   "metadata": {},
   "outputs": [],
   "source": [
    "import tensorflow as tf\n",
    "from musicnn_keras.tagger import top_tags\n",
    "\n",
    "\n",
    "musicnn = tf.keras.models.load_model(\n",
    "    './musicnn_keras/keras_checkpoints/MSD_musicnn.h5')\n"
   ]
  },
  {
   "cell_type": "code",
   "execution_count": null,
   "metadata": {},
   "outputs": [],
   "source": [
    "import json\n",
    "\n",
    "_MP3_PATH = rf'audio/instruments'\n",
    "\n",
    "audios = Path(_MP3_PATH).glob('*.mp3')\n",
    "audio_list = []\n",
    "audio_list.append(str(f).split('/')[2] for f in audios)\n",
    "audio_json = dict()\n",
    "\n",
    "for af in tqdm(audios):\n",
    "    # Get Tags\n",
    "    audio_dict = dict()\n",
    "    audio_dict['tags'] = top_tags(str(af),\n",
    "                                  model='MTT_musicnn',\n",
    "                                  topN=10,\n",
    "                                  print_tags=False)\n",
    "\n",
    "    # Save result\n",
    "    audio_name = str(af).split('/')[-1]\n",
    "    meta_data = audio_name.split('.')[0].split('_')\n",
    "    audio_dict['instrumrnt'] = meta_data[2]\n",
    "    audio_dict['tempo'] = meta_data[3]\n",
    "    audio_dict['key'] = meta_data[4]\n",
    "    audio_json[audio_name.split('.')[0]] = audio_dict\n",
    "\n",
    "with open('result.json', 'w', encoding='utf-8') as f:\n",
    "    json.dump(audio_json, f, ensure_ascii=False, indent=4, sort_keys=True)\n"
   ]
  }
 ],
 "metadata": {
  "kernelspec": {
   "display_name": "Python 3.6.13 ('env36')",
   "language": "python",
   "name": "python3"
  },
  "language_info": {
   "codemirror_mode": {
    "name": "ipython",
    "version": 3
   },
   "file_extension": ".py",
   "mimetype": "text/x-python",
   "name": "python",
   "nbconvert_exporter": "python",
   "pygments_lexer": "ipython3",
   "version": "3.8.18"
  },
  "orig_nbformat": 4,
  "vscode": {
   "interpreter": {
    "hash": "0d666df2afcc0c6df9e28fa98bb526daf8825275d2a14a075fe129637dcee5a8"
   }
  }
 },
 "nbformat": 4,
 "nbformat_minor": 2
}
