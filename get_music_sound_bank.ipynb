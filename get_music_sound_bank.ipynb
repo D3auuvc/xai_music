{
 "cells": [
  {
   "cell_type": "markdown",
   "metadata": {},
   "source": [
    "## Generate single instrument soundtrack"
   ]
  },
  {
   "cell_type": "code",
   "execution_count": 2,
   "metadata": {},
   "outputs": [],
   "source": [
    "from music21 import instrument\n",
    "\n",
    "# Instrument list\n",
    "instruments = {\"Piano\": instrument.Piano(),\n",
    "               \"Harpsichord\": instrument.Harpsichord(),\n",
    "               \"Glockenspiel\": instrument.Glockenspiel(),\n",
    "               \"Xylophone\": instrument.Xylophone(),\n",
    "               \"ElectricOrgan\": instrument.ElectricOrgan(),\n",
    "               \"Harmonica\": instrument.Harmonica(),\n",
    "               \"AcousticGuitar\": instrument.AcousticGuitar(),\n",
    "               \"ElectricGuitar\": instrument.ElectricGuitar(),\n",
    "               \"ElectricBass\": instrument.ElectricBass(),\n",
    "               \"Violin\": instrument.Violin(),\n",
    "               \"Viola\": instrument.Viola(),\n",
    "               \"Violoncello\": instrument.Violoncello(),\n",
    "               \"Harp\": instrument.Harp(),\n",
    "               \"Timpani\": instrument.Timpani(),\n",
    "               \"Trombone\": instrument.Trombone(),\n",
    "               \"Tuba\": instrument.Tuba(),\n",
    "               \"SopranoSaxophone\": instrument.SopranoSaxophone(),\n",
    "               \"Flute\": instrument.Flute(),\n",
    "               \"Koto\": instrument.Koto(),\n",
    "               \"Soprano\": instrument.Soprano()}\n",
    "\n",
    "# Tmpo list\n",
    "tmpo_fctr = {\"original\": 1.00,\n",
    "             \"x125\": 1.25,\n",
    "             \"x150\": 1.50,\n",
    "             \"x075\": 0.75,\n",
    "             \"x050\": 0.50}\n",
    "# Key\n",
    "keys = [-2, -1, 0, 1, 2]\n",
    "\n",
    "# major conversions\n",
    "majors = dict([(\"A-\", 4), (\"A\", 3), (\"B-\", 2), (\"B\", 1), (\"C\", 0), (\"D-\", -1),\n",
    "              (\"D\", -2), (\"E-\", -3), (\"E\", -4), (\"F\", -5), (\"G-\", 6), (\"G\", 5)])\n",
    "minors = dict([(\"A-\", 1), (\"A\", 0), (\"B-\", -1), (\"B\", -2), (\"C\", -3),\n",
    "              (\"D-\", -4), (\"D\", -5), (\"E-\", 6), (\"E\", 5), (\"F\", 4), (\"G-\", 3), (\"G\", 2)])"
   ]
  },
  {
   "cell_type": "markdown",
   "metadata": {},
   "source": [
    "## Synthesize MIDI to audio (mp3)"
   ]
  },
  {
   "cell_type": "code",
   "execution_count": 3,
   "metadata": {},
   "outputs": [],
   "source": [
    "from midi2audio import FluidSynth\n",
    "\n",
    "\n",
    "def midi_to_audio(input_midi, output_audio):\n",
    "    '''\n",
    "    Using the default sound font in 44100 Hz sample rate\n",
    "    '''\n",
    "    fs = FluidSynth()\n",
    "    fs.midi_to_audio(input_midi, output_audio)\n"
   ]
  },
  {
   "cell_type": "markdown",
   "metadata": {},
   "source": [
    "## Generate single instrument soundtrack"
   ]
  },
  {
   "cell_type": "code",
   "execution_count": 13,
   "metadata": {},
   "outputs": [
    {
     "name": "stderr",
     "output_type": "stream",
     "text": [
      "  0%|          | 0/20 [02:42<?, ?it/s]\n"
     ]
    },
    {
     "ename": "KeyboardInterrupt",
     "evalue": "",
     "output_type": "error",
     "traceback": [
      "\u001b[0;31m---------------------------------------------------------------------------\u001b[0m",
      "\u001b[0;31mKeyboardInterrupt\u001b[0m                         Traceback (most recent call last)",
      "\u001b[0;32m<ipython-input-13-85720b5c0c76>\u001b[0m in \u001b[0;36m<module>\u001b[0;34m\u001b[0m\n\u001b[1;32m     34\u001b[0m \u001b[0;34m\u001b[0m\u001b[0m\n\u001b[1;32m     35\u001b[0m             midi_to_audio(Path(_MIDI_PATH, _SOLO_MIDI), Path(\n\u001b[0;32m---> 36\u001b[0;31m                 _AUDIO_PATH, f'{_SOLO_MIDI[:-5]}{_MP3}'))\n\u001b[0m",
      "\u001b[0;32m<ipython-input-3-a777a3d89bd3>\u001b[0m in \u001b[0;36mmidi_to_audio\u001b[0;34m(input_midi, output_audio)\u001b[0m\n\u001b[1;32m      7\u001b[0m     '''\n\u001b[1;32m      8\u001b[0m     \u001b[0mfs\u001b[0m \u001b[0;34m=\u001b[0m \u001b[0mFluidSynth\u001b[0m\u001b[0;34m(\u001b[0m\u001b[0;34m)\u001b[0m\u001b[0;34m\u001b[0m\u001b[0;34m\u001b[0m\u001b[0m\n\u001b[0;32m----> 9\u001b[0;31m     \u001b[0mfs\u001b[0m\u001b[0;34m.\u001b[0m\u001b[0mmidi_to_audio\u001b[0m\u001b[0;34m(\u001b[0m\u001b[0minput_midi\u001b[0m\u001b[0;34m,\u001b[0m \u001b[0moutput_audio\u001b[0m\u001b[0;34m)\u001b[0m\u001b[0;34m\u001b[0m\u001b[0;34m\u001b[0m\u001b[0m\n\u001b[0m",
      "\u001b[0;32m~/miniconda3/envs/env36/lib/python3.6/site-packages/midi2audio.py\u001b[0m in \u001b[0;36mmidi_to_audio\u001b[0;34m(self, midi_file, audio_file)\u001b[0m\n\u001b[1;32m     44\u001b[0m \u001b[0;34m\u001b[0m\u001b[0m\n\u001b[1;32m     45\u001b[0m     \u001b[0;32mdef\u001b[0m \u001b[0mmidi_to_audio\u001b[0m\u001b[0;34m(\u001b[0m\u001b[0mself\u001b[0m\u001b[0;34m,\u001b[0m \u001b[0mmidi_file\u001b[0m\u001b[0;34m,\u001b[0m \u001b[0maudio_file\u001b[0m\u001b[0;34m)\u001b[0m\u001b[0;34m:\u001b[0m\u001b[0;34m\u001b[0m\u001b[0;34m\u001b[0m\u001b[0m\n\u001b[0;32m---> 46\u001b[0;31m         \u001b[0msubprocess\u001b[0m\u001b[0;34m.\u001b[0m\u001b[0mcall\u001b[0m\u001b[0;34m(\u001b[0m\u001b[0;34m[\u001b[0m\u001b[0;34m'fluidsynth'\u001b[0m\u001b[0;34m,\u001b[0m \u001b[0;34m'-ni'\u001b[0m\u001b[0;34m,\u001b[0m \u001b[0mself\u001b[0m\u001b[0;34m.\u001b[0m\u001b[0msound_font\u001b[0m\u001b[0;34m,\u001b[0m \u001b[0mmidi_file\u001b[0m\u001b[0;34m,\u001b[0m \u001b[0;34m'-F'\u001b[0m\u001b[0;34m,\u001b[0m \u001b[0maudio_file\u001b[0m\u001b[0;34m,\u001b[0m \u001b[0;34m'-r'\u001b[0m\u001b[0;34m,\u001b[0m \u001b[0mstr\u001b[0m\u001b[0;34m(\u001b[0m\u001b[0mself\u001b[0m\u001b[0;34m.\u001b[0m\u001b[0msample_rate\u001b[0m\u001b[0;34m)\u001b[0m\u001b[0;34m]\u001b[0m\u001b[0;34m)\u001b[0m\u001b[0;34m\u001b[0m\u001b[0;34m\u001b[0m\u001b[0m\n\u001b[0m\u001b[1;32m     47\u001b[0m \u001b[0;34m\u001b[0m\u001b[0m\n\u001b[1;32m     48\u001b[0m     \u001b[0;32mdef\u001b[0m \u001b[0mplay_midi\u001b[0m\u001b[0;34m(\u001b[0m\u001b[0mself\u001b[0m\u001b[0;34m,\u001b[0m \u001b[0mmidi_file\u001b[0m\u001b[0;34m)\u001b[0m\u001b[0;34m:\u001b[0m\u001b[0;34m\u001b[0m\u001b[0;34m\u001b[0m\u001b[0m\n",
      "\u001b[0;32m~/miniconda3/envs/env36/lib/python3.6/subprocess.py\u001b[0m in \u001b[0;36mcall\u001b[0;34m(timeout, *popenargs, **kwargs)\u001b[0m\n\u001b[1;32m    287\u001b[0m     \u001b[0;32mwith\u001b[0m \u001b[0mPopen\u001b[0m\u001b[0;34m(\u001b[0m\u001b[0;34m*\u001b[0m\u001b[0mpopenargs\u001b[0m\u001b[0;34m,\u001b[0m \u001b[0;34m**\u001b[0m\u001b[0mkwargs\u001b[0m\u001b[0;34m)\u001b[0m \u001b[0;32mas\u001b[0m \u001b[0mp\u001b[0m\u001b[0;34m:\u001b[0m\u001b[0;34m\u001b[0m\u001b[0;34m\u001b[0m\u001b[0m\n\u001b[1;32m    288\u001b[0m         \u001b[0;32mtry\u001b[0m\u001b[0;34m:\u001b[0m\u001b[0;34m\u001b[0m\u001b[0;34m\u001b[0m\u001b[0m\n\u001b[0;32m--> 289\u001b[0;31m             \u001b[0;32mreturn\u001b[0m \u001b[0mp\u001b[0m\u001b[0;34m.\u001b[0m\u001b[0mwait\u001b[0m\u001b[0;34m(\u001b[0m\u001b[0mtimeout\u001b[0m\u001b[0;34m=\u001b[0m\u001b[0mtimeout\u001b[0m\u001b[0;34m)\u001b[0m\u001b[0;34m\u001b[0m\u001b[0;34m\u001b[0m\u001b[0m\n\u001b[0m\u001b[1;32m    290\u001b[0m         \u001b[0;32mexcept\u001b[0m\u001b[0;34m:\u001b[0m\u001b[0;34m\u001b[0m\u001b[0;34m\u001b[0m\u001b[0m\n\u001b[1;32m    291\u001b[0m             \u001b[0mp\u001b[0m\u001b[0;34m.\u001b[0m\u001b[0mkill\u001b[0m\u001b[0;34m(\u001b[0m\u001b[0;34m)\u001b[0m\u001b[0;34m\u001b[0m\u001b[0;34m\u001b[0m\u001b[0m\n",
      "\u001b[0;32m~/miniconda3/envs/env36/lib/python3.6/subprocess.py\u001b[0m in \u001b[0;36mwait\u001b[0;34m(self, timeout, endtime)\u001b[0m\n\u001b[1;32m   1475\u001b[0m                         \u001b[0;32mif\u001b[0m \u001b[0mself\u001b[0m\u001b[0;34m.\u001b[0m\u001b[0mreturncode\u001b[0m \u001b[0;32mis\u001b[0m \u001b[0;32mnot\u001b[0m \u001b[0;32mNone\u001b[0m\u001b[0;34m:\u001b[0m\u001b[0;34m\u001b[0m\u001b[0;34m\u001b[0m\u001b[0m\n\u001b[1;32m   1476\u001b[0m                             \u001b[0;32mbreak\u001b[0m  \u001b[0;31m# Another thread waited.\u001b[0m\u001b[0;34m\u001b[0m\u001b[0;34m\u001b[0m\u001b[0m\n\u001b[0;32m-> 1477\u001b[0;31m                         \u001b[0;34m(\u001b[0m\u001b[0mpid\u001b[0m\u001b[0;34m,\u001b[0m \u001b[0msts\u001b[0m\u001b[0;34m)\u001b[0m \u001b[0;34m=\u001b[0m \u001b[0mself\u001b[0m\u001b[0;34m.\u001b[0m\u001b[0m_try_wait\u001b[0m\u001b[0;34m(\u001b[0m\u001b[0;36m0\u001b[0m\u001b[0;34m)\u001b[0m\u001b[0;34m\u001b[0m\u001b[0;34m\u001b[0m\u001b[0m\n\u001b[0m\u001b[1;32m   1478\u001b[0m                         \u001b[0;31m# Check the pid and loop as waitpid has been known to\u001b[0m\u001b[0;34m\u001b[0m\u001b[0;34m\u001b[0m\u001b[0;34m\u001b[0m\u001b[0m\n\u001b[1;32m   1479\u001b[0m                         \u001b[0;31m# return 0 even without WNOHANG in odd situations.\u001b[0m\u001b[0;34m\u001b[0m\u001b[0;34m\u001b[0m\u001b[0;34m\u001b[0m\u001b[0m\n",
      "\u001b[0;32m~/miniconda3/envs/env36/lib/python3.6/subprocess.py\u001b[0m in \u001b[0;36m_try_wait\u001b[0;34m(self, wait_flags)\u001b[0m\n\u001b[1;32m   1422\u001b[0m             \u001b[0;34m\"\"\"All callers to this function MUST hold self._waitpid_lock.\"\"\"\u001b[0m\u001b[0;34m\u001b[0m\u001b[0;34m\u001b[0m\u001b[0m\n\u001b[1;32m   1423\u001b[0m             \u001b[0;32mtry\u001b[0m\u001b[0;34m:\u001b[0m\u001b[0;34m\u001b[0m\u001b[0;34m\u001b[0m\u001b[0m\n\u001b[0;32m-> 1424\u001b[0;31m                 \u001b[0;34m(\u001b[0m\u001b[0mpid\u001b[0m\u001b[0;34m,\u001b[0m \u001b[0msts\u001b[0m\u001b[0;34m)\u001b[0m \u001b[0;34m=\u001b[0m \u001b[0mos\u001b[0m\u001b[0;34m.\u001b[0m\u001b[0mwaitpid\u001b[0m\u001b[0;34m(\u001b[0m\u001b[0mself\u001b[0m\u001b[0;34m.\u001b[0m\u001b[0mpid\u001b[0m\u001b[0;34m,\u001b[0m \u001b[0mwait_flags\u001b[0m\u001b[0;34m)\u001b[0m\u001b[0;34m\u001b[0m\u001b[0;34m\u001b[0m\u001b[0m\n\u001b[0m\u001b[1;32m   1425\u001b[0m             \u001b[0;32mexcept\u001b[0m \u001b[0mChildProcessError\u001b[0m\u001b[0;34m:\u001b[0m\u001b[0;34m\u001b[0m\u001b[0;34m\u001b[0m\u001b[0m\n\u001b[1;32m   1426\u001b[0m                 \u001b[0;31m# This happens if SIGCLD is set to be ignored or waiting\u001b[0m\u001b[0;34m\u001b[0m\u001b[0;34m\u001b[0m\u001b[0;34m\u001b[0m\u001b[0m\n",
      "\u001b[0;31mKeyboardInterrupt\u001b[0m: "
     ]
    }
   ],
   "source": [
    "from music21 import converter\n",
    "from tqdm import tqdm\n",
    "from pathlib import Path\n",
    "\n",
    "\n",
    "_TARGET_AUDIO_PATH = rf'audio'\n",
    "_MIDI_PATH = rf'audio/tmp'\n",
    "_AUDIO_PATH = rf'audio/instruments'\n",
    "_MID = rf'.midi'\n",
    "_MP3 = rf'.mp3'\n",
    "_MIDI_SOLO_CHOIR = rf'HighwayToHell_solo_choir'\n",
    "\n",
    "score = converter.parse(Path(_TARGET_AUDIO_PATH,f'{_MIDI_SOLO_CHOIR}{_MID}'))\n",
    "\n",
    "# Create instrument\n",
    "for inst_name, inst_obj in tqdm(instruments.items()):\n",
    "    score.parts[0].insert(0, inst_obj)\n",
    "    # With diferent tempo\n",
    "    # scale (in this case stretch) the overall tempo by this factor\n",
    "    for tmpo_name, tempo in tmpo_fctr.items():\n",
    "        mod_score = score.scaleOffsets(tempo).scaleDurations(tempo)\n",
    "\n",
    "        # With diferent key\n",
    "        for halfstep in keys:\n",
    "            _SOLO_MIDI = ''\n",
    "            if (halfstep == 0) and tmpo_name == 'original':\n",
    "                _SOLO_MIDI = rf'HighwayToHell_solo_{inst_name}_{tmpo_name}{_MID}'\n",
    "                mod_score.write('midi', Path(_MIDI_PATH, _SOLO_MIDI))\n",
    "            else:\n",
    "                new_key_score = mod_score.transpose(halfstep)\n",
    "                key = new_key_score.analyze('key')\n",
    "                _SOLO_MIDI = rf'HighwayToHell_solo_{inst_name}_{tmpo_name}_{key.tonic}{key.mode}{_MID}'\n",
    "                new_key_score.write('midi', Path(_MIDI_PATH, _SOLO_MIDI))\n",
    "\n",
    "            midi_to_audio(Path(_MIDI_PATH, _SOLO_MIDI), Path(\n",
    "                _AUDIO_PATH, f'{_SOLO_MIDI[:-5]}{_MP3}'))\n"
   ]
  },
  {
   "cell_type": "code",
   "execution_count": 148,
   "metadata": {},
   "outputs": [
    {
     "name": "stdout",
     "output_type": "stream",
     "text": [
      "D major\n",
      "C major\n"
     ]
    }
   ],
   "source": [
    "_AUDIO_ROOT_PATH = rf'audio/'\n",
    "_MID = rf'.midi'\n",
    "_MIDI_SOLO_CHOIR = rf'HighwayToHell_solo_choir'\n",
    "\n",
    "score = converter.parse(rf'{_AUDIO_ROOT_PATH}{_MIDI_SOLO_CHOIR}{_MID}')\n",
    "key=score.analyze('key')\n",
    "# Print the key and the mode (major or minor)\n",
    "print(key.tonic, key.mode)\n",
    "\n",
    "newscore = score.transpose(-2)\n",
    "new_key = newscore.analyze('key')\n",
    "print(new_key.tonic.name, new_key.mode)"
   ]
  },
  {
   "cell_type": "code",
   "execution_count": 11,
   "metadata": {},
   "outputs": [
    {
     "name": "stdout",
     "output_type": "stream",
     "text": [
      "audio/HighwayToHell_solo_choir\n"
     ]
    }
   ],
   "source": [
    "from pathlib import Path\n",
    "_TARGET_AUDIO_PATH = rf'audio/'\n",
    "_MIDI_PATH=rf'audio/tmp'\n",
    "_AUDIO_PATH=rf'audio/instruments'\n",
    "_MID = rf'.midi'\n",
    "_MP3 = rf'.mp3'\n",
    "_MIDI_SOLO_CHOIR = rf'HighwayToHell_solo_choir'\n",
    "\n",
    "\n",
    "p=Path(_TARGET_AUDIO_PATH,_MIDI_SOLO_CHOIR)\n",
    "print((str(p)))"
   ]
  },
  {
   "cell_type": "markdown",
   "metadata": {},
   "source": [
    "## Load a trained neural network model"
   ]
  },
  {
   "cell_type": "code",
   "execution_count": null,
   "metadata": {},
   "outputs": [],
   "source": [
    "import tensorflow as tf\n",
    "from musicnn_keras.tagger import top_tags\n",
    "\n",
    "\n",
    "musicnn = tf.keras.models.load_model(\n",
    "    './musicnn_keras/keras_checkpoints/MSD_musicnn.h5')"
   ]
  },
  {
   "cell_type": "code",
   "execution_count": null,
   "metadata": {},
   "outputs": [],
   "source": [
    "top_tags(f'{_AUDIO_ROOT_PATH}{_MIDI_SOLO_CHOIR}{_MP3}',\n",
    "         model='MTT_musicnn', topN=10)"
   ]
  }
 ],
 "metadata": {
  "kernelspec": {
   "display_name": "Python 3.6.13 ('env36')",
   "language": "python",
   "name": "python3"
  },
  "language_info": {
   "codemirror_mode": {
    "name": "ipython",
    "version": 3
   },
   "file_extension": ".py",
   "mimetype": "text/x-python",
   "name": "python",
   "nbconvert_exporter": "python",
   "pygments_lexer": "ipython3",
   "version": "3.6.13"
  },
  "orig_nbformat": 4,
  "vscode": {
   "interpreter": {
    "hash": "0d666df2afcc0c6df9e28fa98bb526daf8825275d2a14a075fe129637dcee5a8"
   }
  }
 },
 "nbformat": 4,
 "nbformat_minor": 2
}
